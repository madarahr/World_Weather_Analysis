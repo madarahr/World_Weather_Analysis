{
 "cells": [
  {
   "cell_type": "code",
   "execution_count": 1,
   "metadata": {},
   "outputs": [],
   "source": [
    "# Import the dependencies.\n",
    "import pandas as pd\n",
    "import gmaps\n",
    "import requests\n",
    "\n",
    "# Import the API key.\n",
    "from config import g_key\n",
    "\n",
    "import gmaps.datasets\n",
    "gmaps.configure(api_key=g_key)"
   ]
  },
  {
   "cell_type": "code",
   "execution_count": 2,
   "metadata": {},
   "outputs": [],
   "source": [
    "# Load the CSV created in Vacation_Search.ipynb into a DataFrame.\n",
    "vacation_data_df = pd.read_csv(\"weather_data/WeatherPy_vacation.csv\", index_col = 0)"
   ]
  },
  {
   "cell_type": "code",
   "execution_count": 3,
   "metadata": {},
   "outputs": [
    {
     "data": {
      "text/html": [
       "<div>\n",
       "<style scoped>\n",
       "    .dataframe tbody tr th:only-of-type {\n",
       "        vertical-align: middle;\n",
       "    }\n",
       "\n",
       "    .dataframe tbody tr th {\n",
       "        vertical-align: top;\n",
       "    }\n",
       "\n",
       "    .dataframe thead th {\n",
       "        text-align: right;\n",
       "    }\n",
       "</style>\n",
       "<table border=\"1\" class=\"dataframe\">\n",
       "  <thead>\n",
       "    <tr style=\"text-align: right;\">\n",
       "      <th></th>\n",
       "      <th>City</th>\n",
       "      <th>Country</th>\n",
       "      <th>Max Temp</th>\n",
       "      <th>Current Description</th>\n",
       "      <th>Lat</th>\n",
       "      <th>Lng</th>\n",
       "      <th>Hotel Name</th>\n",
       "    </tr>\n",
       "  </thead>\n",
       "  <tbody>\n",
       "    <tr>\n",
       "      <th>3</th>\n",
       "      <td>Green River</td>\n",
       "      <td>US</td>\n",
       "      <td>86.00</td>\n",
       "      <td>clear sky</td>\n",
       "      <td>41.53</td>\n",
       "      <td>-109.47</td>\n",
       "      <td>Hampton Inn &amp; Suites Green River</td>\n",
       "    </tr>\n",
       "    <tr>\n",
       "      <th>6</th>\n",
       "      <td>Georgetown</td>\n",
       "      <td>MY</td>\n",
       "      <td>80.60</td>\n",
       "      <td>few clouds</td>\n",
       "      <td>5.41</td>\n",
       "      <td>100.34</td>\n",
       "      <td>Cititel Penang</td>\n",
       "    </tr>\n",
       "    <tr>\n",
       "      <th>9</th>\n",
       "      <td>Ahuimanu</td>\n",
       "      <td>US</td>\n",
       "      <td>84.20</td>\n",
       "      <td>broken clouds</td>\n",
       "      <td>21.44</td>\n",
       "      <td>-157.84</td>\n",
       "      <td>Paradise Bay Resort</td>\n",
       "    </tr>\n",
       "    <tr>\n",
       "      <th>10</th>\n",
       "      <td>Mentor</td>\n",
       "      <td>US</td>\n",
       "      <td>75.99</td>\n",
       "      <td>overcast clouds</td>\n",
       "      <td>41.67</td>\n",
       "      <td>-81.34</td>\n",
       "      <td>Holiday Inn Cleveland Northeast - Mentor</td>\n",
       "    </tr>\n",
       "    <tr>\n",
       "      <th>17</th>\n",
       "      <td>Qiongshan</td>\n",
       "      <td>CN</td>\n",
       "      <td>80.60</td>\n",
       "      <td>clear sky</td>\n",
       "      <td>20.01</td>\n",
       "      <td>110.35</td>\n",
       "      <td>Sun City Restaurant</td>\n",
       "    </tr>\n",
       "    <tr>\n",
       "      <th>18</th>\n",
       "      <td>Svay Rieng</td>\n",
       "      <td>KH</td>\n",
       "      <td>80.11</td>\n",
       "      <td>overcast clouds</td>\n",
       "      <td>11.09</td>\n",
       "      <td>105.80</td>\n",
       "      <td>Apsara guesthouse</td>\n",
       "    </tr>\n",
       "    <tr>\n",
       "      <th>21</th>\n",
       "      <td>Hithadhoo</td>\n",
       "      <td>MV</td>\n",
       "      <td>84.83</td>\n",
       "      <td>broken clouds</td>\n",
       "      <td>-0.60</td>\n",
       "      <td>73.08</td>\n",
       "      <td>Scoop Guest House</td>\n",
       "    </tr>\n",
       "    <tr>\n",
       "      <th>29</th>\n",
       "      <td>Bethel</td>\n",
       "      <td>US</td>\n",
       "      <td>81.00</td>\n",
       "      <td>clear sky</td>\n",
       "      <td>41.37</td>\n",
       "      <td>-73.41</td>\n",
       "      <td>Courtyard by Marriott Danbury</td>\n",
       "    </tr>\n",
       "    <tr>\n",
       "      <th>34</th>\n",
       "      <td>Roma</td>\n",
       "      <td>US</td>\n",
       "      <td>78.80</td>\n",
       "      <td>clear sky</td>\n",
       "      <td>43.21</td>\n",
       "      <td>-75.46</td>\n",
       "      <td>Wingate By Wyndham Rome</td>\n",
       "    </tr>\n",
       "    <tr>\n",
       "      <th>49</th>\n",
       "      <td>Cabo San Lucas</td>\n",
       "      <td>MX</td>\n",
       "      <td>95.00</td>\n",
       "      <td>scattered clouds</td>\n",
       "      <td>22.89</td>\n",
       "      <td>-109.91</td>\n",
       "      <td>Hotel Tesoro Los Cabos</td>\n",
       "    </tr>\n",
       "  </tbody>\n",
       "</table>\n",
       "</div>"
      ],
      "text/plain": [
       "              City Country  Max Temp Current Description    Lat     Lng  \\\n",
       "3      Green River      US     86.00           clear sky  41.53 -109.47   \n",
       "6       Georgetown      MY     80.60          few clouds   5.41  100.34   \n",
       "9         Ahuimanu      US     84.20       broken clouds  21.44 -157.84   \n",
       "10          Mentor      US     75.99     overcast clouds  41.67  -81.34   \n",
       "17       Qiongshan      CN     80.60           clear sky  20.01  110.35   \n",
       "18      Svay Rieng      KH     80.11     overcast clouds  11.09  105.80   \n",
       "21       Hithadhoo      MV     84.83       broken clouds  -0.60   73.08   \n",
       "29          Bethel      US     81.00           clear sky  41.37  -73.41   \n",
       "34            Roma      US     78.80           clear sky  43.21  -75.46   \n",
       "49  Cabo San Lucas      MX     95.00    scattered clouds  22.89 -109.91   \n",
       "\n",
       "                                  Hotel Name  \n",
       "3           Hampton Inn & Suites Green River  \n",
       "6                             Cititel Penang  \n",
       "9                        Paradise Bay Resort  \n",
       "10  Holiday Inn Cleveland Northeast - Mentor  \n",
       "17                       Sun City Restaurant  \n",
       "18                         Apsara guesthouse  \n",
       "21                         Scoop Guest House  \n",
       "29             Courtyard by Marriott Danbury  \n",
       "34                   Wingate By Wyndham Rome  \n",
       "49                    Hotel Tesoro Los Cabos  "
      ]
     },
     "execution_count": 3,
     "metadata": {},
     "output_type": "execute_result"
    }
   ],
   "source": [
    "vacation_data_df.head(10)"
   ]
  },
  {
   "cell_type": "code",
   "execution_count": 4,
   "metadata": {},
   "outputs": [],
   "source": [
    "# Convert Max Temp type from float64 to string.\n",
    "vacation_data_df['Max Temp'] = vacation_data_df['Max Temp'].astype(str)"
   ]
  },
  {
   "cell_type": "code",
   "execution_count": 5,
   "metadata": {},
   "outputs": [],
   "source": [
    "# Creating a new column with Current Weather by merging Current Description and Max Temp into one.\n",
    "# Max Temp was converted to a string prior to appending.\n",
    "vacation_data_df[\"Current Weather\"] = vacation_data_df[\"Current Description\"] +\" and \"+ vacation_data_df[\"Max Temp\"] +\" \" u\"\\N{DEGREE SIGN}\"\"F\"\n",
    "\n",
    "# Dropping the columns for Current Description and Max Temp as the information has been replaced with Current Weather\n",
    "vacation_data_df = vacation_data_df.drop(['Current Description', 'Max Temp'], axis=1)\n",
    "\n",
    "# Rearranging the columns in DataFrame\n",
    "vacation_data_df = vacation_data_df[[\"City\", \"Country\", \"Lat\", \"Lng\", \"Current Weather\", \"Hotel Name\"]]"
   ]
  },
  {
   "cell_type": "code",
   "execution_count": 6,
   "metadata": {},
   "outputs": [
    {
     "data": {
      "text/html": [
       "<div>\n",
       "<style scoped>\n",
       "    .dataframe tbody tr th:only-of-type {\n",
       "        vertical-align: middle;\n",
       "    }\n",
       "\n",
       "    .dataframe tbody tr th {\n",
       "        vertical-align: top;\n",
       "    }\n",
       "\n",
       "    .dataframe thead th {\n",
       "        text-align: right;\n",
       "    }\n",
       "</style>\n",
       "<table border=\"1\" class=\"dataframe\">\n",
       "  <thead>\n",
       "    <tr style=\"text-align: right;\">\n",
       "      <th></th>\n",
       "      <th>City</th>\n",
       "      <th>Country</th>\n",
       "      <th>Lat</th>\n",
       "      <th>Lng</th>\n",
       "      <th>Current Weather</th>\n",
       "      <th>Hotel Name</th>\n",
       "    </tr>\n",
       "  </thead>\n",
       "  <tbody>\n",
       "    <tr>\n",
       "      <th>3</th>\n",
       "      <td>Green River</td>\n",
       "      <td>US</td>\n",
       "      <td>41.53</td>\n",
       "      <td>-109.47</td>\n",
       "      <td>clear sky and 86.0 °F</td>\n",
       "      <td>Hampton Inn &amp; Suites Green River</td>\n",
       "    </tr>\n",
       "    <tr>\n",
       "      <th>6</th>\n",
       "      <td>Georgetown</td>\n",
       "      <td>MY</td>\n",
       "      <td>5.41</td>\n",
       "      <td>100.34</td>\n",
       "      <td>few clouds and 80.6 °F</td>\n",
       "      <td>Cititel Penang</td>\n",
       "    </tr>\n",
       "    <tr>\n",
       "      <th>9</th>\n",
       "      <td>Ahuimanu</td>\n",
       "      <td>US</td>\n",
       "      <td>21.44</td>\n",
       "      <td>-157.84</td>\n",
       "      <td>broken clouds and 84.2 °F</td>\n",
       "      <td>Paradise Bay Resort</td>\n",
       "    </tr>\n",
       "    <tr>\n",
       "      <th>10</th>\n",
       "      <td>Mentor</td>\n",
       "      <td>US</td>\n",
       "      <td>41.67</td>\n",
       "      <td>-81.34</td>\n",
       "      <td>overcast clouds and 75.99 °F</td>\n",
       "      <td>Holiday Inn Cleveland Northeast - Mentor</td>\n",
       "    </tr>\n",
       "    <tr>\n",
       "      <th>17</th>\n",
       "      <td>Qiongshan</td>\n",
       "      <td>CN</td>\n",
       "      <td>20.01</td>\n",
       "      <td>110.35</td>\n",
       "      <td>clear sky and 80.6 °F</td>\n",
       "      <td>Sun City Restaurant</td>\n",
       "    </tr>\n",
       "  </tbody>\n",
       "</table>\n",
       "</div>"
      ],
      "text/plain": [
       "           City Country    Lat     Lng               Current Weather  \\\n",
       "3   Green River      US  41.53 -109.47         clear sky and 86.0 °F   \n",
       "6    Georgetown      MY   5.41  100.34        few clouds and 80.6 °F   \n",
       "9      Ahuimanu      US  21.44 -157.84     broken clouds and 84.2 °F   \n",
       "10       Mentor      US  41.67  -81.34  overcast clouds and 75.99 °F   \n",
       "17    Qiongshan      CN  20.01  110.35         clear sky and 80.6 °F   \n",
       "\n",
       "                                  Hotel Name  \n",
       "3           Hampton Inn & Suites Green River  \n",
       "6                             Cititel Penang  \n",
       "9                        Paradise Bay Resort  \n",
       "10  Holiday Inn Cleveland Northeast - Mentor  \n",
       "17                       Sun City Restaurant  "
      ]
     },
     "execution_count": 6,
     "metadata": {},
     "output_type": "execute_result"
    }
   ],
   "source": [
    "vacation_data_df.head()"
   ]
  },
  {
   "cell_type": "code",
   "execution_count": 7,
   "metadata": {},
   "outputs": [],
   "source": [
    "# Creating a pop up marker for the DataFrame to allow layering on a map.\n",
    "info_box_template = \"\"\"\n",
    "<dl>\n",
    "<dt>Hotel Name</dt><dd>{Hotel Name}</dd>\n",
    "<dt>City</dt><dd>{City}</dd>\n",
    "<dt>Country</dt><dd>{Country}</dd>\n",
    "<dt>Current Weather</dt><dd>{Current Weather}</dd>\n",
    "</dl>\n",
    "\"\"\""
   ]
  },
  {
   "cell_type": "code",
   "execution_count": 8,
   "metadata": {},
   "outputs": [],
   "source": [
    "# Store the DataFrame Row.\n",
    "vacation_cities_info = [info_box_template.format(**row) for index, row in vacation_data_df.iterrows()]"
   ]
  },
  {
   "cell_type": "code",
   "execution_count": 9,
   "metadata": {},
   "outputs": [
    {
     "data": {
      "application/vnd.jupyter.widget-view+json": {
       "model_id": "c35fb0a5c1734386a88000f7fd7bb168",
       "version_major": 2,
       "version_minor": 0
      },
      "text/plain": [
       "Figure(layout=FigureLayout(height='420px'))"
      ]
     },
     "metadata": {},
     "output_type": "display_data"
    }
   ],
   "source": [
    "# map with selected vacation spots.\n",
    "locations = vacation_data_df[[\"Lat\", \"Lng\"]]\n",
    "\n",
    "fig = gmaps.figure(center=(30.0, 30.0), zoom_level=1.5)\n",
    "\n",
    "marker_layer = gmaps.marker_layer(locations, info_box_content=vacation_cities_info)\n",
    "\n",
    "#  Adding marker layers.\n",
    "fig.add_layer(marker_layer)\n",
    "\n",
    "# Call the figure to plot the data.\n",
    "fig"
   ]
  },
  {
   "cell_type": "code",
   "execution_count": 10,
   "metadata": {},
   "outputs": [],
   "source": [
    "# Creating DataFrame of the 4 selected cities for travel.\n",
    "kothi_df = vacation_data_df.loc[(vacation_data_df[\"City\"] == \"Kothi\")]\n",
    "bombay_df = vacation_data_df.loc[(vacation_data_df[\"City\"] == \"Bombay\")]\n",
    "karwar_df = vacation_data_df.loc[(vacation_data_df[\"City\"] == \"Karwar\")]\n",
    "yanam_df = vacation_data_df.loc[(vacation_data_df[\"City\"] == \"Yanam\")]"
   ]
  },
  {
   "cell_type": "code",
   "execution_count": 11,
   "metadata": {},
   "outputs": [
    {
     "data": {
      "text/html": [
       "<div>\n",
       "<style scoped>\n",
       "    .dataframe tbody tr th:only-of-type {\n",
       "        vertical-align: middle;\n",
       "    }\n",
       "\n",
       "    .dataframe tbody tr th {\n",
       "        vertical-align: top;\n",
       "    }\n",
       "\n",
       "    .dataframe thead th {\n",
       "        text-align: right;\n",
       "    }\n",
       "</style>\n",
       "<table border=\"1\" class=\"dataframe\">\n",
       "  <thead>\n",
       "    <tr style=\"text-align: right;\">\n",
       "      <th></th>\n",
       "      <th>City</th>\n",
       "      <th>Country</th>\n",
       "      <th>Lat</th>\n",
       "      <th>Lng</th>\n",
       "      <th>Current Weather</th>\n",
       "      <th>Hotel Name</th>\n",
       "    </tr>\n",
       "  </thead>\n",
       "  <tbody>\n",
       "    <tr>\n",
       "      <th>63</th>\n",
       "      <td>Yanam</td>\n",
       "      <td>IN</td>\n",
       "      <td>16.73</td>\n",
       "      <td>82.22</td>\n",
       "      <td>overcast clouds and 80.98 °F</td>\n",
       "      <td>The Regency Hotel</td>\n",
       "    </tr>\n",
       "  </tbody>\n",
       "</table>\n",
       "</div>"
      ],
      "text/plain": [
       "     City Country    Lat    Lng               Current Weather  \\\n",
       "63  Yanam      IN  16.73  82.22  overcast clouds and 80.98 °F   \n",
       "\n",
       "           Hotel Name  \n",
       "63  The Regency Hotel  "
      ]
     },
     "execution_count": 11,
     "metadata": {},
     "output_type": "execute_result"
    }
   ],
   "source": [
    "yanam_df"
   ]
  },
  {
   "cell_type": "code",
   "execution_count": 12,
   "metadata": {},
   "outputs": [],
   "source": [
    "# Importing dependable.\n",
    "import numpy as np"
   ]
  },
  {
   "cell_type": "code",
   "execution_count": 13,
   "metadata": {},
   "outputs": [],
   "source": [
    "# listing the cities.\n",
    "kothi = (np.array(kothi_df)[0,2],np.array(kothi_df)[0,3])\n",
    "bombay = (np.array(bombay_df)[0,2],np.array(bombay_df)[0,3])\n",
    "karwar = (np.array(karwar_df)[0,2],np.array(karwar_df)[0,3])\n",
    "yanam = (np.array(yanam_df)[0,2],np.array(yanam_df)[0,3])"
   ]
  },
  {
   "cell_type": "code",
   "execution_count": 14,
   "metadata": {},
   "outputs": [],
   "source": [
    "# Creating a data frame of the vacation cities.\n",
    "city_marker_df = pd.concat([kothi_df, bombay_df, karwar_df, yanam_df])"
   ]
  },
  {
   "cell_type": "code",
   "execution_count": 15,
   "metadata": {},
   "outputs": [
    {
     "data": {
      "text/html": [
       "<div>\n",
       "<style scoped>\n",
       "    .dataframe tbody tr th:only-of-type {\n",
       "        vertical-align: middle;\n",
       "    }\n",
       "\n",
       "    .dataframe tbody tr th {\n",
       "        vertical-align: top;\n",
       "    }\n",
       "\n",
       "    .dataframe thead th {\n",
       "        text-align: right;\n",
       "    }\n",
       "</style>\n",
       "<table border=\"1\" class=\"dataframe\">\n",
       "  <thead>\n",
       "    <tr style=\"text-align: right;\">\n",
       "      <th></th>\n",
       "      <th>City</th>\n",
       "      <th>Country</th>\n",
       "      <th>Lat</th>\n",
       "      <th>Lng</th>\n",
       "      <th>Current Weather</th>\n",
       "      <th>Hotel Name</th>\n",
       "    </tr>\n",
       "  </thead>\n",
       "  <tbody>\n",
       "    <tr>\n",
       "      <th>547</th>\n",
       "      <td>Kothi</td>\n",
       "      <td>IN</td>\n",
       "      <td>24.75</td>\n",
       "      <td>80.78</td>\n",
       "      <td>broken clouds and 82.92 °F</td>\n",
       "      <td>KILA-THE HERITAGE PALACE</td>\n",
       "    </tr>\n",
       "    <tr>\n",
       "      <th>447</th>\n",
       "      <td>Bombay</td>\n",
       "      <td>IN</td>\n",
       "      <td>19.01</td>\n",
       "      <td>72.85</td>\n",
       "      <td>light rain and 80.6 °F</td>\n",
       "      <td>Four Seasons Hotel Mumbai</td>\n",
       "    </tr>\n",
       "    <tr>\n",
       "      <th>443</th>\n",
       "      <td>Karwar</td>\n",
       "      <td>IN</td>\n",
       "      <td>14.80</td>\n",
       "      <td>74.13</td>\n",
       "      <td>overcast clouds and 79.0 °F</td>\n",
       "      <td>Aditi Comforts</td>\n",
       "    </tr>\n",
       "    <tr>\n",
       "      <th>63</th>\n",
       "      <td>Yanam</td>\n",
       "      <td>IN</td>\n",
       "      <td>16.73</td>\n",
       "      <td>82.22</td>\n",
       "      <td>overcast clouds and 80.98 °F</td>\n",
       "      <td>The Regency Hotel</td>\n",
       "    </tr>\n",
       "  </tbody>\n",
       "</table>\n",
       "</div>"
      ],
      "text/plain": [
       "       City Country    Lat    Lng               Current Weather  \\\n",
       "547   Kothi      IN  24.75  80.78    broken clouds and 82.92 °F   \n",
       "447  Bombay      IN  19.01  72.85        light rain and 80.6 °F   \n",
       "443  Karwar      IN  14.80  74.13   overcast clouds and 79.0 °F   \n",
       "63    Yanam      IN  16.73  82.22  overcast clouds and 80.98 °F   \n",
       "\n",
       "                    Hotel Name  \n",
       "547   KILA-THE HERITAGE PALACE  \n",
       "447  Four Seasons Hotel Mumbai  \n",
       "443             Aditi Comforts  \n",
       "63           The Regency Hotel  "
      ]
     },
     "execution_count": 15,
     "metadata": {},
     "output_type": "execute_result"
    }
   ],
   "source": [
    "city_marker_df.head()"
   ]
  },
  {
   "cell_type": "code",
   "execution_count": 16,
   "metadata": {},
   "outputs": [
    {
     "data": {
      "application/vnd.jupyter.widget-view+json": {
       "model_id": "0e964bd0d5fc48b59e23f3af822c3aef",
       "version_major": 2,
       "version_minor": 0
      },
      "text/plain": [
       "Figure(layout=FigureLayout(height='420px'))"
      ]
     },
     "metadata": {},
     "output_type": "display_data"
    }
   ],
   "source": [
    "# Selecting travel mode as 'DRIVING' and creating a travel itinerary from Rong Kwang to Sattahip through Loei and Khanu Woralaksaburi.\n",
    "fig = gmaps.figure()\n",
    "\n",
    "# Creating a travel marker\n",
    "india_marker = gmaps.directions_layer(kothi, karwar, waypoints=[bombay, yanam],\n",
    "        travel_mode='DRIVING')\n",
    "#  Adding the travel layer.\n",
    "fig.add_layer(india_marker)\n",
    "fig"
   ]
  },
  {
   "cell_type": "code",
   "execution_count": 17,
   "metadata": {},
   "outputs": [],
   "source": [
    "# Creating a pop up marker for the DataFrame above to allow layering on a map.\n",
    "info_box_template = \"\"\"\n",
    "<dl>\n",
    "<dt>Hotel Name</dt><dd>{Hotel Name}</dd>\n",
    "<dt>City</dt><dd>{City}</dd>\n",
    "<dt>Country</dt><dd>{Country}</dd>\n",
    "<dt>Current Weather</dt><dd>{Current Weather}</dd>\n",
    "</dl>\n",
    "\"\"\""
   ]
  },
  {
   "cell_type": "code",
   "execution_count": 18,
   "metadata": {},
   "outputs": [],
   "source": [
    "# Store the DataFrame Row.\n",
    "vacation_info = [info_box_template.format(**row) for index, row in city_marker_df.iterrows()]"
   ]
  },
  {
   "cell_type": "code",
   "execution_count": 24,
   "metadata": {},
   "outputs": [
    {
     "data": {
      "application/vnd.jupyter.widget-view+json": {
       "model_id": "b289dd51071a4ab4970916e12b766a37",
       "version_major": 2,
       "version_minor": 0
      },
      "text/plain": [
       "Figure(layout=FigureLayout(height='420px'))"
      ]
     },
     "metadata": {},
     "output_type": "display_data"
    }
   ],
   "source": [
    "# Add marker layer with pop up on map.\n",
    "locations = city_marker_df[[\"Lat\", \"Lng\"]]\n",
    "\n",
    "fig = gmaps.figure(center=(22.0, 80.0), zoom_level=5.0)\n",
    "\n",
    "#Adding pop-up marker\n",
    "marker_layer = gmaps.marker_layer(locations, info_box_content=vacation_info)\n",
    "\n",
    "#  Adding marker.\n",
    "fig.add_layer(marker_layer)\n",
    "\n",
    "# Call the figure to plot the data.\n",
    "fig"
   ]
  },
  {
   "cell_type": "code",
   "execution_count": null,
   "metadata": {},
   "outputs": [],
   "source": []
  }
 ],
 "metadata": {
  "kernelspec": {
   "display_name": "PythonData",
   "language": "python",
   "name": "pythondata"
  },
  "language_info": {
   "codemirror_mode": {
    "name": "ipython",
    "version": 3
   },
   "file_extension": ".py",
   "mimetype": "text/x-python",
   "name": "python",
   "nbconvert_exporter": "python",
   "pygments_lexer": "ipython3",
   "version": "3.7.7"
  }
 },
 "nbformat": 4,
 "nbformat_minor": 4
}
